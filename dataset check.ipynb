{
 "cells": [
  {
   "cell_type": "code",
   "execution_count": 1,
   "metadata": {},
   "outputs": [],
   "source": [
    "%load_ext autoreload\n",
    "%autoreload 2\n",
    "from pathlib import Path\n",
    "from src.datasets import LLFFDataset"
   ]
  },
  {
   "cell_type": "code",
   "execution_count": 2,
   "metadata": {
    "pycharm": {
     "name": "#%%\n"
    }
   },
   "outputs": [],
   "source": [
    "data_dir = Path(\"../mip-nerf-datasets/llff/orchids/\")\n",
    "image_dir = Path(\"../mip-nerf-datasets/llff/orchids/images/\")"
   ]
  },
  {
   "cell_type": "code",
   "execution_count": 3,
   "metadata": {
    "pycharm": {
     "name": "#%%\n"
    }
   },
   "outputs": [
    {
     "name": "stdout",
     "output_type": "stream",
     "text": [
      "../mip-nerf-datasets/llff/orchids/images/IMG_4467.JPG\n",
      "../mip-nerf-datasets/llff/orchids/images/IMG_4468.JPG\n",
      "../mip-nerf-datasets/llff/orchids/images/IMG_4469.JPG\n",
      "../mip-nerf-datasets/llff/orchids/images/IMG_4470.JPG\n",
      "../mip-nerf-datasets/llff/orchids/images/IMG_4471.JPG\n",
      "../mip-nerf-datasets/llff/orchids/images/IMG_4472.JPG\n",
      "../mip-nerf-datasets/llff/orchids/images/IMG_4473.JPG\n",
      "../mip-nerf-datasets/llff/orchids/images/IMG_4474.JPG\n",
      "../mip-nerf-datasets/llff/orchids/images/IMG_4475.JPG\n",
      "../mip-nerf-datasets/llff/orchids/images/IMG_4476.JPG\n",
      "../mip-nerf-datasets/llff/orchids/images/IMG_4477.JPG\n",
      "../mip-nerf-datasets/llff/orchids/images/IMG_4478.JPG\n",
      "../mip-nerf-datasets/llff/orchids/images/IMG_4479.JPG\n",
      "../mip-nerf-datasets/llff/orchids/images/IMG_4480.JPG\n",
      "../mip-nerf-datasets/llff/orchids/images/IMG_4481.JPG\n",
      "../mip-nerf-datasets/llff/orchids/images/IMG_4482.JPG\n",
      "../mip-nerf-datasets/llff/orchids/images/IMG_4483.JPG\n",
      "../mip-nerf-datasets/llff/orchids/images/IMG_4484.JPG\n",
      "../mip-nerf-datasets/llff/orchids/images/IMG_4485.JPG\n",
      "../mip-nerf-datasets/llff/orchids/images/IMG_4486.JPG\n",
      "../mip-nerf-datasets/llff/orchids/images/IMG_4487.JPG\n",
      "../mip-nerf-datasets/llff/orchids/images/IMG_4488.JPG\n",
      "../mip-nerf-datasets/llff/orchids/images/IMG_4489.JPG\n",
      "../mip-nerf-datasets/llff/orchids/images/IMG_4490.JPG\n",
      "../mip-nerf-datasets/llff/orchids/images/IMG_4491.JPG\n"
     ]
    },
    {
     "ename": "AttributeError",
     "evalue": "'LLFFDataset' object has no attribute 'spherify'",
     "output_type": "error",
     "traceback": [
      "\u001B[0;31m---------------------------------------------------------------------------\u001B[0m",
      "\u001B[0;31mAttributeError\u001B[0m                            Traceback (most recent call last)",
      "\u001B[0;32m<ipython-input-3-275830923e03>\u001B[0m in \u001B[0;36m<module>\u001B[0;34m\u001B[0m\n\u001B[1;32m     16\u001B[0m     \u001B[0mnear\u001B[0m\u001B[0;34m=\u001B[0m\u001B[0;36m0.\u001B[0m\u001B[0;34m,\u001B[0m \u001B[0mfar\u001B[0m\u001B[0;34m=\u001B[0m\u001B[0;36m1.\u001B[0m\u001B[0;34m,\u001B[0m \u001B[0mto_render_path\u001B[0m\u001B[0;34m=\u001B[0m\u001B[0;32mFalse\u001B[0m\u001B[0;34m,\u001B[0m\u001B[0;34m\u001B[0m\u001B[0;34m\u001B[0m\u001B[0m\n\u001B[1;32m     17\u001B[0m     \u001B[0mbatching_mode\u001B[0m\u001B[0;34m=\u001B[0m\u001B[0;34m\"all_images\"\u001B[0m\u001B[0;34m,\u001B[0m\u001B[0;34m\u001B[0m\u001B[0;34m\u001B[0m\u001B[0m\n\u001B[0;32m---> 18\u001B[0;31m     \u001B[0mfactor\u001B[0m\u001B[0;34m=\u001B[0m\u001B[0;36m1\u001B[0m\u001B[0;34m,\u001B[0m \u001B[0mto_spherify\u001B[0m\u001B[0;34m=\u001B[0m\u001B[0;32mFalse\u001B[0m\u001B[0;34m,\u001B[0m \u001B[0mllffhold\u001B[0m\u001B[0;34m=\u001B[0m\u001B[0;36m8\u001B[0m\u001B[0;34m\u001B[0m\u001B[0;34m\u001B[0m\u001B[0m\n\u001B[0m\u001B[1;32m     19\u001B[0m )\n",
      "\u001B[0;32m/media/bsuleymanov/Новый том1/2021/mip-nerf/src/datasets.py\u001B[0m in \u001B[0;36m__init__\u001B[0;34m(self, data_dir, split, near, far, to_render_path, batching_mode, factor, to_spherify, llffhold)\u001B[0m\n\u001B[1;32m     51\u001B[0m \u001B[0;34m\u001B[0m\u001B[0m\n\u001B[1;32m     52\u001B[0m         \u001B[0;32mif\u001B[0m \u001B[0msplit\u001B[0m \u001B[0;34m==\u001B[0m \u001B[0;34m\"train\"\u001B[0m\u001B[0;34m:\u001B[0m\u001B[0;34m\u001B[0m\u001B[0;34m\u001B[0m\u001B[0m\n\u001B[0;32m---> 53\u001B[0;31m             \u001B[0mself\u001B[0m\u001B[0;34m.\u001B[0m\u001B[0m_train_init\u001B[0m\u001B[0;34m(\u001B[0m\u001B[0;34m)\u001B[0m\u001B[0;34m\u001B[0m\u001B[0;34m\u001B[0m\u001B[0m\n\u001B[0m\u001B[1;32m     54\u001B[0m         \u001B[0;32melif\u001B[0m \u001B[0msplit\u001B[0m \u001B[0;34m==\u001B[0m \u001B[0;34m\"test\"\u001B[0m\u001B[0;34m:\u001B[0m\u001B[0;34m\u001B[0m\u001B[0;34m\u001B[0m\u001B[0m\n\u001B[1;32m     55\u001B[0m             \u001B[0mself\u001B[0m\u001B[0;34m.\u001B[0m\u001B[0m_test_init\u001B[0m\u001B[0;34m(\u001B[0m\u001B[0;34m)\u001B[0m\u001B[0;34m\u001B[0m\u001B[0;34m\u001B[0m\u001B[0m\n",
      "\u001B[0;32m/media/bsuleymanov/Новый том1/2021/mip-nerf/src/datasets.py\u001B[0m in \u001B[0;36m_train_init\u001B[0;34m(self)\u001B[0m\n\u001B[1;32m     61\u001B[0m     \u001B[0;32mdef\u001B[0m \u001B[0m_train_init\u001B[0m\u001B[0;34m(\u001B[0m\u001B[0mself\u001B[0m\u001B[0;34m)\u001B[0m\u001B[0;34m:\u001B[0m\u001B[0;34m\u001B[0m\u001B[0;34m\u001B[0m\u001B[0m\n\u001B[1;32m     62\u001B[0m         \u001B[0mself\u001B[0m\u001B[0;34m.\u001B[0m\u001B[0m_load_renderings\u001B[0m\u001B[0;34m(\u001B[0m\u001B[0;34m)\u001B[0m\u001B[0;34m\u001B[0m\u001B[0;34m\u001B[0m\u001B[0m\n\u001B[0;32m---> 63\u001B[0;31m         \u001B[0mself\u001B[0m\u001B[0;34m.\u001B[0m\u001B[0m_generate_rays\u001B[0m\u001B[0;34m(\u001B[0m\u001B[0;34m)\u001B[0m\u001B[0;34m\u001B[0m\u001B[0;34m\u001B[0m\u001B[0m\n\u001B[0m\u001B[1;32m     64\u001B[0m         \u001B[0;32mif\u001B[0m \u001B[0mself\u001B[0m\u001B[0;34m.\u001B[0m\u001B[0mbatching_mode\u001B[0m \u001B[0;34m==\u001B[0m \u001B[0;34m\"all_images\"\u001B[0m\u001B[0;34m:\u001B[0m\u001B[0;34m\u001B[0m\u001B[0;34m\u001B[0m\u001B[0m\n\u001B[1;32m     65\u001B[0m             \u001B[0mself\u001B[0m\u001B[0;34m.\u001B[0m\u001B[0mimages\u001B[0m \u001B[0;34m=\u001B[0m \u001B[0mself\u001B[0m\u001B[0;34m.\u001B[0m\u001B[0mimages\u001B[0m\u001B[0;34m.\u001B[0m\u001B[0mreshape\u001B[0m\u001B[0;34m(\u001B[0m\u001B[0;34m[\u001B[0m\u001B[0;34m-\u001B[0m\u001B[0;36m1\u001B[0m\u001B[0;34m,\u001B[0m \u001B[0;36m3\u001B[0m\u001B[0;34m]\u001B[0m\u001B[0;34m)\u001B[0m\u001B[0;34m\u001B[0m\u001B[0;34m\u001B[0m\u001B[0m\n",
      "\u001B[0;32m/media/bsuleymanov/Новый том1/2021/mip-nerf/src/datasets.py\u001B[0m in \u001B[0;36m_generate_rays\u001B[0;34m(self)\u001B[0m\n\u001B[1;32m    242\u001B[0m         \u001B[0msuper\u001B[0m\u001B[0;34m(\u001B[0m\u001B[0;34m)\u001B[0m\u001B[0;34m.\u001B[0m\u001B[0m_generate_rays\u001B[0m\u001B[0;34m(\u001B[0m\u001B[0;34m)\u001B[0m\u001B[0;34m\u001B[0m\u001B[0;34m\u001B[0m\u001B[0m\n\u001B[1;32m    243\u001B[0m \u001B[0;34m\u001B[0m\u001B[0m\n\u001B[0;32m--> 244\u001B[0;31m         \u001B[0;32mif\u001B[0m \u001B[0;32mnot\u001B[0m \u001B[0mself\u001B[0m\u001B[0;34m.\u001B[0m\u001B[0mspherify\u001B[0m\u001B[0;34m:\u001B[0m\u001B[0;34m\u001B[0m\u001B[0;34m\u001B[0m\u001B[0m\n\u001B[0m\u001B[1;32m    245\u001B[0m             ndc_origins, ndc_directions = convert_to_ndc(self.rays.origins,\n\u001B[1;32m    246\u001B[0m                                                          \u001B[0mself\u001B[0m\u001B[0;34m.\u001B[0m\u001B[0mrays\u001B[0m\u001B[0;34m.\u001B[0m\u001B[0mdirections\u001B[0m\u001B[0;34m,\u001B[0m\u001B[0;34m\u001B[0m\u001B[0;34m\u001B[0m\u001B[0m\n",
      "\u001B[0;31mAttributeError\u001B[0m: 'LLFFDataset' object has no attribute 'spherify'"
     ]
    }
   ],
   "source": [
    "# Config.dataset_loader = 'llff'\n",
    "# Config.white_bkgd = False\n",
    "# Config.randomized = True\n",
    "# Config.near = 0.\n",
    "# Config.far = 1.\n",
    "# Config.factor = 4\n",
    "# Config.llffhold = 8\n",
    "# MipNerfModel.use_viewdirs = True\n",
    "# MipNerfModel.ray_shape = 'cylinder'\n",
    "# MipNerfModel.density_noise = 1.\n",
    "\n",
    "\n",
    "\n",
    "dataset = LLFFDataset(\n",
    "    data_dir=data_dir, split=\"train\",\n",
    "    near=0., far=1., to_render_path=False,\n",
    "    batching_mode=\"all_images\",\n",
    "    factor=1, to_spherify=False, llffhold=8\n",
    ")"
   ]
  },
  {
   "cell_type": "code",
   "execution_count": null,
   "metadata": {
    "pycharm": {
     "name": "#%%\n"
    }
   },
   "outputs": [],
   "source": [
    "LLFFDataset"
   ]
  },
  {
   "cell_type": "code",
   "execution_count": null,
   "metadata": {},
   "outputs": [],
   "source": []
  }
 ],
 "metadata": {
  "kernelspec": {
   "display_name": "Python 3",
   "language": "python",
   "name": "python3"
  },
  "language_info": {
   "codemirror_mode": {
    "name": "ipython",
    "version": 3
   },
   "file_extension": ".py",
   "mimetype": "text/x-python",
   "name": "python",
   "nbconvert_exporter": "python",
   "pygments_lexer": "ipython3",
   "version": "3.7.10"
  }
 },
 "nbformat": 4,
 "nbformat_minor": 1
}