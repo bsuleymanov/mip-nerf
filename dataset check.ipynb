{
 "cells": [
  {
   "cell_type": "code",
   "execution_count": 21,
   "metadata": {},
   "outputs": [
    {
     "name": "stdout",
     "output_type": "stream",
     "text": [
      "The autoreload extension is already loaded. To reload it, use:\n",
      "  %reload_ext autoreload\n"
     ]
    }
   ],
   "source": [
    "%load_ext autoreload\n",
    "%autoreload 2\n",
    "from pathlib import Path\n",
    "from src.datasets import LLFFDataset, LLFFDataloader\n",
    "from src.utils import namedtuple_map\n",
    "import numpy as np"
   ]
  },
  {
   "cell_type": "code",
   "execution_count": 2,
   "metadata": {
    "pycharm": {
     "name": "#%%\n"
    }
   },
   "outputs": [],
   "source": [
    "data_dir = Path(\"../mip-nerf-datasets/llff/orchids/\")\n",
    "image_dir = Path(\"../mip-nerf-datasets/llff/orchids/images/\")"
   ]
  },
  {
   "cell_type": "code",
   "execution_count": 3,
   "metadata": {
    "pycharm": {
     "name": "#%%\n"
    }
   },
   "outputs": [
    {
     "name": "stdout",
     "output_type": "stream",
     "text": [
      "../mip-nerf-datasets/llff/orchids/images/IMG_4467.JPG\n",
      "../mip-nerf-datasets/llff/orchids/images/IMG_4468.JPG\n",
      "../mip-nerf-datasets/llff/orchids/images/IMG_4469.JPG\n",
      "../mip-nerf-datasets/llff/orchids/images/IMG_4470.JPG\n",
      "../mip-nerf-datasets/llff/orchids/images/IMG_4471.JPG\n",
      "../mip-nerf-datasets/llff/orchids/images/IMG_4472.JPG\n",
      "../mip-nerf-datasets/llff/orchids/images/IMG_4473.JPG\n",
      "../mip-nerf-datasets/llff/orchids/images/IMG_4474.JPG\n",
      "../mip-nerf-datasets/llff/orchids/images/IMG_4475.JPG\n",
      "../mip-nerf-datasets/llff/orchids/images/IMG_4476.JPG\n",
      "../mip-nerf-datasets/llff/orchids/images/IMG_4477.JPG\n",
      "../mip-nerf-datasets/llff/orchids/images/IMG_4478.JPG\n",
      "../mip-nerf-datasets/llff/orchids/images/IMG_4479.JPG\n",
      "../mip-nerf-datasets/llff/orchids/images/IMG_4480.JPG\n",
      "../mip-nerf-datasets/llff/orchids/images/IMG_4481.JPG\n",
      "../mip-nerf-datasets/llff/orchids/images/IMG_4482.JPG\n",
      "../mip-nerf-datasets/llff/orchids/images/IMG_4483.JPG\n",
      "../mip-nerf-datasets/llff/orchids/images/IMG_4484.JPG\n",
      "../mip-nerf-datasets/llff/orchids/images/IMG_4485.JPG\n",
      "../mip-nerf-datasets/llff/orchids/images/IMG_4486.JPG\n",
      "../mip-nerf-datasets/llff/orchids/images/IMG_4487.JPG\n",
      "../mip-nerf-datasets/llff/orchids/images/IMG_4488.JPG\n",
      "../mip-nerf-datasets/llff/orchids/images/IMG_4489.JPG\n",
      "../mip-nerf-datasets/llff/orchids/images/IMG_4490.JPG\n",
      "../mip-nerf-datasets/llff/orchids/images/IMG_4491.JPG\n"
     ]
    }
   ],
   "source": [
    "# Config.dataset_loader = 'llff'\n",
    "# Config.white_bkgd = False\n",
    "# Config.randomized = True\n",
    "# Config.near = 0.\n",
    "# Config.far = 1.\n",
    "# Config.factor = 4\n",
    "# Config.llffhold = 8\n",
    "# MipNerfModel.use_viewdirs = True\n",
    "# MipNerfModel.ray_shape = 'cylinder'\n",
    "# MipNerfModel.density_noise = 1.\n",
    "\n",
    "\n",
    "\n",
    "# dataset = LLFFDataset(\n",
    "#     data_dir=data_dir, split=\"train\",\n",
    "#     near=0., far=1., to_render_path=False,\n",
    "#     batching_mode=\"all_images\",\n",
    "#     factor=1, to_spherify=False, llffhold=8\n",
    "# )\n",
    "dataloader = LLFFDataloader(\n",
    "    data_dir=data_dir, split=\"train\",\n",
    "    near=0., far=1., to_render_path=False,\n",
    "    batching_mode=\"all_images\",\n",
    "    factor=1, to_spherify=False, llffhold=8,\n",
    "    shuffle=False\n",
    ")"
   ]
  },
  {
   "cell_type": "code",
   "execution_count": 4,
   "metadata": {},
   "outputs": [],
   "source": [
    "train_loader = iter(dataloader.loader)"
   ]
  },
  {
   "cell_type": "code",
   "execution_count": 5,
   "metadata": {},
   "outputs": [],
   "source": [
    "batch_data = next(train_loader)"
   ]
  },
  {
   "cell_type": "code",
   "execution_count": 6,
   "metadata": {},
   "outputs": [],
   "source": [
    "batch_pixels = batch_data[\"pixels\"]"
   ]
  },
  {
   "cell_type": "code",
   "execution_count": 7,
   "metadata": {},
   "outputs": [],
   "source": [
    "batch_rays = batch_data[\"rays\"]"
   ]
  },
  {
   "cell_type": "code",
   "execution_count": 8,
   "metadata": {},
   "outputs": [
    {
     "data": {
      "text/plain": [
       "tensor([[0.2588, 0.3059, 0.1098],\n",
       "        [0.3020, 0.3569, 0.1569],\n",
       "        [0.3216, 0.3765, 0.1843],\n",
       "        [0.2235, 0.2863, 0.0941],\n",
       "        [0.2510, 0.3216, 0.1333],\n",
       "        [0.2000, 0.2667, 0.0902],\n",
       "        [0.2784, 0.3529, 0.1765],\n",
       "        [0.2431, 0.3137, 0.1569]])"
      ]
     },
     "execution_count": 8,
     "metadata": {},
     "output_type": "execute_result"
    }
   ],
   "source": [
    "batch_pixels"
   ]
  },
  {
   "cell_type": "code",
   "execution_count": 12,
   "metadata": {},
   "outputs": [],
   "source": [
    "batch_indices = list(range(8))"
   ]
  },
  {
   "cell_type": "code",
   "execution_count": 13,
   "metadata": {},
   "outputs": [],
   "source": [
    "raw_rays = namedtuple_map(lambda r: r[batch_indices], dataloader.dataset.rays)"
   ]
  },
  {
   "cell_type": "code",
   "execution_count": 16,
   "metadata": {},
   "outputs": [
    {
     "data": {
      "text/plain": [
       "array([-1.155868 ,  1.4018744, -1.       ], dtype=float32)"
      ]
     },
     "execution_count": 16,
     "metadata": {},
     "output_type": "execute_result"
    }
   ],
   "source": [
    "raw_rays.origins[0]"
   ]
  },
  {
   "cell_type": "code",
   "execution_count": 22,
   "metadata": {},
   "outputs": [
    {
     "data": {
      "text/plain": [
       "array([ True,  True,  True])"
      ]
     },
     "execution_count": 22,
     "metadata": {},
     "output_type": "execute_result"
    }
   ],
   "source": [
    "np.isclose(batch_rays.origins[0], raw_rays.origins[0])"
   ]
  },
  {
   "cell_type": "code",
   "execution_count": 23,
   "metadata": {},
   "outputs": [],
   "source": [
    "raw_pixels = dataloader.dataset.images[batch_indices]"
   ]
  },
  {
   "cell_type": "code",
   "execution_count": null,
   "metadata": {},
   "outputs": [],
   "source": []
  },
  {
   "cell_type": "code",
   "execution_count": null,
   "metadata": {},
   "outputs": [],
   "source": []
  },
  {
   "cell_type": "code",
   "execution_count": null,
   "metadata": {},
   "outputs": [],
   "source": []
  },
  {
   "cell_type": "code",
   "execution_count": null,
   "metadata": {},
   "outputs": [],
   "source": []
  },
  {
   "cell_type": "code",
   "execution_count": null,
   "metadata": {},
   "outputs": [],
   "source": []
  }
 ],
 "metadata": {
  "kernelspec": {
   "display_name": "Python 3",
   "language": "python",
   "name": "python3"
  },
  "language_info": {
   "codemirror_mode": {
    "name": "ipython",
    "version": 3
   },
   "file_extension": ".py",
   "mimetype": "text/x-python",
   "name": "python",
   "nbconvert_exporter": "python",
   "pygments_lexer": "ipython3",
   "version": "3.7.10"
  }
 },
 "nbformat": 4,
 "nbformat_minor": 1
}